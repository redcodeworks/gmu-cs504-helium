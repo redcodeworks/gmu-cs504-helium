{
 "cells": [
  {
   "cell_type": "code",
   "execution_count": 1,
   "metadata": {},
   "outputs": [],
   "source": [
    "import pandas as pd\n",
    "from sklearn.feature_extraction.text import TfidfVectorizer\n",
    "from sklearn.linear_model import LinearRegression\n",
    "from sklearn.pipeline import Pipeline\n",
    "\n",
    "from joblib import dump, load"
   ]
  },
  {
   "cell_type": "code",
   "execution_count": 2,
   "metadata": {},
   "outputs": [],
   "source": [
    "df_reviews = pd.read_csv('reviews.csv')\n",
    "df_content = pd.read_csv('content.csv')"
   ]
  },
  {
   "cell_type": "code",
   "execution_count": 3,
   "metadata": {},
   "outputs": [],
   "source": [
    "lin_model_tfidf = Pipeline([('tfidf',TfidfVectorizer(stop_words='english')),('reg',LinearRegression())])"
   ]
  },
  {
   "cell_type": "code",
   "execution_count": 4,
   "metadata": {},
   "outputs": [
    {
     "output_type": "execute_result",
     "data": {
      "text/plain": [
       "Pipeline(steps=[('tfidf', TfidfVectorizer(stop_words='english')),\n",
       "                ('reg', LinearRegression())])"
      ]
     },
     "metadata": {},
     "execution_count": 4
    }
   ],
   "source": [
    "lin_model_tfidf.fit(df_content['content'].values.astype('U'),df_reviews['score'])"
   ]
  },
  {
   "source": [
    "### Dump to disk"
   ],
   "cell_type": "markdown",
   "metadata": {}
  },
  {
   "cell_type": "code",
   "execution_count": 5,
   "metadata": {},
   "outputs": [
    {
     "output_type": "execute_result",
     "data": {
      "text/plain": [
       "['lin_model_tfidf.joblib']"
      ]
     },
     "metadata": {},
     "execution_count": 5
    }
   ],
   "source": [
    "dump(lin_model_tfidf, 'lin_model_tfidf.joblib')"
   ]
  }
 ],
 "metadata": {
  "kernelspec": {
   "name": "pythonjvsc74a57bd061be13354b50579743613ce964df2b32cc976468063cf7e29de375ac5a7557bb",
   "display_name": "Python 3.9.0  ('.venv': venv)"
  },
  "language_info": {
   "codemirror_mode": {
    "name": "ipython",
    "version": 3
   },
   "file_extension": ".py",
   "mimetype": "text/x-python",
   "name": "python",
   "nbconvert_exporter": "python",
   "pygments_lexer": "ipython3",
   "version": "3.9.0"
  },
  "metadata": {
   "interpreter": {
    "hash": "61be13354b50579743613ce964df2b32cc976468063cf7e29de375ac5a7557bb"
   }
  }
 },
 "nbformat": 4,
 "nbformat_minor": 4
}